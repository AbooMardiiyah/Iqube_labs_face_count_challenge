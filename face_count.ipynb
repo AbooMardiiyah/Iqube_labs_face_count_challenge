{
 "cells": [
  {
   "cell_type": "code",
   "execution_count": 1,
   "metadata": {},
   "outputs": [],
   "source": [
    "import numpy as np\n",
    "import cv2\n",
    "from google.colab.patches import cv2_imshow\n",
    "!pip install git+git://github.com/PnS2019/pnslib.git\n",
    "from pnslib import utils\n",
    "import sys\n",
    "import numpy as np\n",
    "\n",
    "#lines = sys.stdin.readlines()\n",
    "lines = input(\"Enter it:\")\n",
    "\n",
    "shape = lines[0]\n",
    "print(shape.split(\" \")[0])\n",
    "print(shape.split(\" \")[1])\n",
    "lines = lines[1:]\n",
    "len(lines)\n",
    "\n",
    "\n",
    "img3 =[]\n",
    "for row in lines:\n",
    "  pixels = row.split(\" \")\n",
    "  for i in pixels:\n",
    "    value = i.split(',')\n",
    "    img3.append([int(value[0]), int(value[1]), int(value[2])])\n",
    "img3 = np.array(img3)\n",
    "\n",
    "img3_new = np.reshape(img3, (int(shape.split(\" \")[0]),int(shape.split(\" \")[1]),-1))\n",
    "\n",
    "face_cascade = cv2.CascadeClassifier(\n",
    "    utils.get_haarcascade_path('haarcascade_frontalface_default.xml'))\n",
    "bboxes = face_cascade.detectMultiScale(img3_new)\n",
    "\n",
    "lis=[]\n",
    "for box in bboxes:\n",
    "    lis.append(box)\n",
    "print(len(box))\n",
    "\n",
    "#cv2.imshow(\"nem\", img3_new)\n",
    "\n",
    "\n"
   ]
  },
  {
   "cell_type": "markdown",
   "metadata": {},
   "source": [
    "Approach:\n",
    "In this task, i employed the use of the pretrained classifier in OpenCV known as `haar cascade`. The code above accepts an input which is a text file. it cleans it and splits each value in the txt by empty string. it creates a 3-d array. The pretrained classifier detects the face by using the functionality `detectMultiScale`. it creates a unique box for each face it detects in the pictures. i appended the boxes in a list and finds the lenght of the list which corresponds to the number od faces in the image."
   ]
  },
  {
   "cell_type": "markdown",
   "metadata": {},
   "source": [
    "Another Face detector is the MTCNN(multi-task-cascade Neural network).\n",
    "The MTCNN is popular because it achieved then state-of-the-art results on a range of benchmark datasets, and because it is capable of also recognizing other facial features such as eyes and mouth, called landmark detection.\n",
    "\n",
    "The network uses a cascade structure with three networks; first the image is rescaled to a range of different sizes (called an image pyramid), then the first model (Proposal Network or P-Net) proposes candidate facial regions, the second model (Refine Network or R-Net) filters the bounding boxes, and the third model (Output Network or O-Net) proposes facial landmarks."
   ]
  },
  {
   "cell_type": "code",
   "execution_count": null,
   "metadata": {},
   "outputs": [],
   "source": []
  }
 ],
 "metadata": {
  "kernelspec": {
   "display_name": "Python 3",
   "language": "python",
   "name": "python3"
  },
  "language_info": {
   "codemirror_mode": {
    "name": "ipython",
    "version": 3
   },
   "file_extension": ".py",
   "mimetype": "text/x-python",
   "name": "python",
   "nbconvert_exporter": "python",
   "pygments_lexer": "ipython3",
   "version": "3.7.4"
  }
 },
 "nbformat": 4,
 "nbformat_minor": 2
}
